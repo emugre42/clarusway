data = [5, "Python", 3.14, -2, "Data", True, 0, 12.5, 9, "AI", None, 4]
integer = filter(lambda x: type(x) == int, data)
integer = list(integer)
integer

squares = map(lambda x: x**2, integer)
squares = list(squares)

print(integer)
print(squares)
